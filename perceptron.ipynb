{
 "cells": [
  {
   "cell_type": "markdown",
   "metadata": {},
   "source": [
    "# Native Python Simple Perceptron Implementation\n",
    "\n",
    "## Author: Mugdhesh Pandkar\n",
    "\n",
    "Inspired by https://www.youtube.com/watch?v=GVsUOuSjvcg and https://en.wikipedia.org/wiki/Perceptron."
   ]
  },
  {
   "cell_type": "markdown",
   "metadata": {},
   "source": [
    "## Define constants"
   ]
  },
  {
   "cell_type": "code",
   "execution_count": 703,
   "metadata": {},
   "outputs": [],
   "source": [
    "HEIGHT, WIDTH = 20, 20\n",
    "weights = [[0] * WIDTH for x in range(HEIGHT)]\n",
    "input = [[0] * WIDTH for x in range(HEIGHT)]\n",
    "BIAS = 5\n",
    "ITERATIONS = 150\n",
    "EPOCHS = 35"
   ]
  },
  {
   "cell_type": "markdown",
   "metadata": {},
   "source": [
    "## Handle imports"
   ]
  },
  {
   "cell_type": "code",
   "execution_count": 704,
   "metadata": {},
   "outputs": [],
   "source": [
    "import matplotlib.pyplot as plt\n",
    "from matplotlib.colors import LinearSegmentedColormap\n",
    "import random"
   ]
  },
  {
   "cell_type": "markdown",
   "metadata": {},
   "source": [
    "## Visualizing the layer"
   ]
  },
  {
   "cell_type": "code",
   "execution_count": 705,
   "metadata": {},
   "outputs": [
    {
     "data": {
      "image/png": "[encoded data removed]",
      "text/plain": [
       "<Figure size 432x288 with 2 Axes>"
      ]
     },
     "metadata": {
      "needs_background": "light"
     },
     "output_type": "display_data"
    }
   ],
   "source": [
    "def visualize(layer):\n",
    "    nodes = [0, 1.0]\n",
    "    colors = [\"blue\", \"yellow\"]\n",
    "    cmap = LinearSegmentedColormap.from_list(\"\", list(zip(nodes, colors)))\n",
    "    fig, ax = plt.subplots()\n",
    "    im = ax.imshow(layer, cmap=cmap, vmin=0, vmax=1)\n",
    "    fig.colorbar(im, extend=\"min\")\n",
    "    plt.show()\n",
    "\n",
    "\n",
    "visualize(input)"
   ]
  },
  {
   "cell_type": "markdown",
   "metadata": {},
   "source": [
    "## Generating Training Data"
   ]
  },
  {
   "cell_type": "markdown",
   "metadata": {},
   "source": [
    "### Rectangles"
   ]
  },
  {
   "cell_type": "code",
   "execution_count": 706,
   "metadata": {},
   "outputs": [
    {
     "data": {
      "image/png": "[encoded data removed]",
      "text/plain": [
       "<Figure size 432x288 with 2 Axes>"
      ]
     },
     "metadata": {
      "needs_background": "light"
     },
     "output_type": "display_data"
    }
   ],
   "source": [
    "def generate_rect(layer):\n",
    "    layer = [[0] * WIDTH for x in range(HEIGHT)]\n",
    "    x = random.randint(0, WIDTH - 3)\n",
    "    y = random.randint(0, HEIGHT -  3)\n",
    "\n",
    "    width = random.randint(2, WIDTH - x)\n",
    "    height = random.randint(2, HEIGHT - y)\n",
    "    \n",
    "    for i in range(y, y + height):\n",
    "        for j in range(x, x + width):\n",
    "            layer[i][j] = 1\n",
    "    \n",
    "    return layer\n",
    "\n",
    "random.seed(100)\n",
    "input = generate_rect(input)\n",
    "visualize(input)"
   ]
  },
  {
   "cell_type": "markdown",
   "metadata": {},
   "source": [
    "### Circles"
   ]
  },
  {
   "cell_type": "code",
   "execution_count": 707,
   "metadata": {},
   "outputs": [
    {
     "data": {
      "image/png": "[encoded data removed]",
      "text/plain": [
       "<Figure size 432x288 with 2 Axes>"
      ]
     },
     "metadata": {
      "needs_background": "light"
     },
     "output_type": "display_data"
    }
   ],
   "source": [
    "def generate_circle(layer):\n",
    "    layer = [[0] * WIDTH for x in range(HEIGHT)]\n",
    "\n",
    "    x = random.randint(2, WIDTH - 2)\n",
    "    y = random.randint(2, HEIGHT - 2)\n",
    "\n",
    "    minRadius = min(min(HEIGHT - 1 - y, y - 1), min(WIDTH - 1 - x, x - 1))\n",
    "\n",
    "\n",
    "    r = 2 if minRadius < 2 else random.randint(2, minRadius)\n",
    "    for i in range(HEIGHT):\n",
    "        for j in range(WIDTH):\n",
    "            if pow(j - x, 2) + pow(i - y, 2) <= r**2:\n",
    "                layer[i][j] = 1\n",
    "    \n",
    "    return layer\n",
    "\n",
    "random.seed(100)\n",
    "input = generate_circle(input)\n",
    "visualize(input)"
   ]
  },
  {
   "cell_type": "markdown",
   "metadata": {},
   "source": [
    "# Training"
   ]
  },
  {
   "cell_type": "code",
   "execution_count": 708,
   "metadata": {},
   "outputs": [],
   "source": [
    "def activation(weights, layer):\n",
    "    sum = 0\n",
    "    for i in range(HEIGHT):\n",
    "        for j in range(WIDTH):\n",
    "            sum += weights[i][j] * layer[i][j]\n",
    "\n",
    "    return sum\n",
    "\n",
    "def add_weight(weights, layer):\n",
    "    for x in range(HEIGHT):\n",
    "        for y in range(WIDTH):\n",
    "            weights[x][y] += layer[x][y]\n",
    "\n",
    "    return weights\n",
    "\n",
    "def subtract_weight(weights, layer):\n",
    "    for x in range(HEIGHT):\n",
    "        for y in range(WIDTH):\n",
    "            weights[x][y] -= layer[x][y]\n",
    "\n",
    "    return weights"
   ]
  },
  {
   "cell_type": "code",
   "execution_count": 716,
   "metadata": {},
   "outputs": [],
   "source": [
    "def train(input, weights):\n",
    "    for x in range(EPOCHS):\n",
    "        correct = 0\n",
    "        adjusted = 0\n",
    "        random.seed(100)\n",
    "        for y in range(ITERATIONS):\n",
    "            input = generate_rect(input)\n",
    "            if(activation(weights, input) > BIAS):\n",
    "                weights = subtract_weight(weights, input)\n",
    "                adjusted += 1\n",
    "            else:\n",
    "                correct += 1\n",
    "\n",
    "            input = generate_circle(input)\n",
    "            if(activation(weights, input) < BIAS):\n",
    "                weights = add_weight(weights, input)\n",
    "                adjusted += 1   \n",
    "            else:\n",
    "                correct += 1\n",
    "        accuracy = (correct / (ITERATIONS * 2)) * 100\n",
    "        print(f\"Epoch {x}, Iteration {y}: {accuracy}% Accuracy\")\n",
    "    \n",
    "    print(\"Training Complete!\")\n",
    "    return weights"
   ]
  },
  {
   "cell_type": "code",
   "execution_count": 717,
   "metadata": {},
   "outputs": [],
   "source": [
    "def test(input, weights):\n",
    "    correct = 0\n",
    "    random.seed(200)\n",
    "    for x in range(ITERATIONS):\n",
    "        input = generate_rect(input)\n",
    "        if(activation(weights, input) > BIAS):\n",
    "            weights = subtract_weight(weights, input)\n",
    "        else:\n",
    "            correct += 1\n",
    "\n",
    "        input = generate_circle(input)\n",
    "        if(activation(weights, input) < BIAS):\n",
    "            weights = add_weight(weights, input)   \n",
    "        else:\n",
    "            correct += 1\n",
    "    accuracy = (correct / (ITERATIONS * 2)) * 100\n",
    "    print(f\"Testing Complete! Final Accuracy: {accuracy}%\")"
   ]
  },
  {
   "cell_type": "code",
   "execution_count": 718,
   "metadata": {},
   "outputs": [
    {
     "name": "stdout",
     "output_type": "stream",
     "text": [
      "Epoch 0, Iteration 149: 47.66666666666667% Accuracy\n",
      "Epoch 1, Iteration 149: 57.99999999999999% Accuracy\n",
      "Epoch 2, Iteration 149: 61.66666666666667% Accuracy\n",
      "Epoch 3, Iteration 149: 67.66666666666666% Accuracy\n",
      "Epoch 4, Iteration 149: 64.33333333333333% Accuracy\n",
      "Epoch 5, Iteration 149: 65.66666666666666% Accuracy\n",
      "Epoch 6, Iteration 149: 65.33333333333333% Accuracy\n",
      "Epoch 7, Iteration 149: 75.66666666666667% Accuracy\n",
      "Epoch 8, Iteration 149: 73.66666666666667% Accuracy\n",
      "Epoch 9, Iteration 149: 78.0% Accuracy\n",
      "Epoch 10, Iteration 149: 76.66666666666667% Accuracy\n",
      "Epoch 11, Iteration 149: 77.0% Accuracy\n",
      "Epoch 12, Iteration 149: 81.0% Accuracy\n",
      "Epoch 13, Iteration 149: 82.33333333333334% Accuracy\n",
      "Epoch 14, Iteration 149: 79.33333333333333% Accuracy\n",
      "Epoch 15, Iteration 149: 81.33333333333333% Accuracy\n",
      "Epoch 16, Iteration 149: 79.0% Accuracy\n",
      "Epoch 17, Iteration 149: 81.66666666666667% Accuracy\n",
      "Epoch 18, Iteration 149: 83.0% Accuracy\n",
      "Epoch 19, Iteration 149: 81.0% Accuracy\n",
      "Epoch 20, Iteration 149: 82.66666666666667% Accuracy\n",
      "Epoch 21, Iteration 149: 84.33333333333334% Accuracy\n",
      "Epoch 22, Iteration 149: 83.33333333333334% Accuracy\n",
      "Epoch 23, Iteration 149: 86.0% Accuracy\n",
      "Epoch 24, Iteration 149: 87.33333333333333% Accuracy\n",
      "Epoch 25, Iteration 149: 81.66666666666667% Accuracy\n",
      "Epoch 26, Iteration 149: 86.0% Accuracy\n",
      "Epoch 27, Iteration 149: 85.33333333333334% Accuracy\n",
      "Epoch 28, Iteration 149: 85.66666666666667% Accuracy\n",
      "Epoch 29, Iteration 149: 83.0% Accuracy\n",
      "Epoch 30, Iteration 149: 88.0% Accuracy\n",
      "Epoch 31, Iteration 149: 88.0% Accuracy\n",
      "Epoch 32, Iteration 149: 89.33333333333333% Accuracy\n",
      "Epoch 33, Iteration 149: 90.0% Accuracy\n",
      "Epoch 34, Iteration 149: 90.33333333333333% Accuracy\n",
      "Training Complete!\n",
      "Testing Complete! Final Accuracy: 60.66666666666667%\n"
     ]
    }
   ],
   "source": [
    "weights = [[0] * WIDTH for x in range(HEIGHT)]\n",
    "weights = train(input, weights)\n",
    "test(input, weights)"
   ]
  },
  {
   "cell_type": "markdown",
   "metadata": {},
   "source": [
    "## Storing & Loading weights"
   ]
  },
  {
   "cell_type": "code",
   "execution_count": 696,
   "metadata": {},
   "outputs": [],
   "source": [
    "import pickle\n",
    "\n",
    "with open(\"weights.pkl\", \"wb\") as f:\n",
    "    pickle.dump(weights, f)\n",
    "\n",
    "with open(\"weights.pkl\", \"rb\") as f:\n",
    "    weights = pickle.load(f)"
   ]
  },
  {
   "cell_type": "markdown",
   "metadata": {},
   "source": [
    "## Visualize Weights"
   ]
  },
  {
   "cell_type": "code",
   "execution_count": 697,
   "metadata": {},
   "outputs": [],
   "source": [
    "def visualize_weights(weights):\n",
    "    nodes = [0, 1.0]\n",
    "    data = [[0] * WIDTH for x in range(HEIGHT)]\n",
    "\n",
    "    OldRange = 45 # -25, 20  \n",
    "    NewRange = 1 # 0, 1  \n",
    "    for y in range(HEIGHT):\n",
    "        for x in range(WIDTH):\n",
    "            data[y][x] = (((weights[y][x] - -25) * NewRange) / OldRange)\n",
    "    colors = [\"blue\", \"yellow\"]\n",
    "    cmap = LinearSegmentedColormap.from_list(\"\", list(zip(nodes, colors)))\n",
    "\n",
    "    fig, ax = plt.subplots()\n",
    "    im = ax.imshow(data, cmap=cmap, vmin=0, vmax=1)\n",
    "    fig.colorbar(im, extend=\"min\")\n",
    "    plt.show()"
   ]
  },
  {
   "cell_type": "code",
   "execution_count": 714,
   "metadata": {},
   "outputs": [
    {
     "data": {
      "image/png": "[encoded data removed]",
      "text/plain": [
       "<Figure size 432x288 with 2 Axes>"
      ]
     },
     "metadata": {
      "needs_background": "light"
     },
     "output_type": "display_data"
    }
   ],
   "source": [
    "visualize_weights(weights)"
   ]
  },
  {
   "cell_type": "markdown",
   "metadata": {},
   "source": [
    "## Predictions"
   ]
  },
  {
   "cell_type": "code",
   "execution_count": 713,
   "metadata": {},
   "outputs": [],
   "source": [
    "def predict(input, weights):\n",
    "    sum = activation(weights, input)\n",
    "    if sum > BIAS:\n",
    "        print(\"Predicted Circle\")\n",
    "    else:\n",
    "        print(\"Predicted Rectangle\")"
   ]
  },
  {
   "cell_type": "code",
   "execution_count": 715,
   "metadata": {},
   "outputs": [
    {
     "name": "stdout",
     "output_type": "stream",
     "text": [
      "Predicted Circle\n"
     ]
    }
   ],
   "source": [
    "circle = generate_circle(input)\n",
    "predict(circle, weights)"
   ]
  }
 ],
 "metadata": {
  "interpreter": {
   "hash": "aee8b7b246df8f9039afb4144a1f6fd8d2ca17a180786b69acc140d282b71a49"
  },
  "kernelspec": {
   "display_name": "Python 3.10.0 64-bit",
   "language": "python",
   "name": "python3"
  },
  "language_info": {
   "codemirror_mode": {
    "name": "ipython",
    "version": 3
   },
   "file_extension": ".py",
   "mimetype": "text/x-python",
   "name": "python",
   "nbconvert_exporter": "python",
   "pygments_lexer": "ipython3",
   "version": "3.10.0"
  },
  "orig_nbformat": 4
 },
 "nbformat": 4,
 "nbformat_minor": 2
}
