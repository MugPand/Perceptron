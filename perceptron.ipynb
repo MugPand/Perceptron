{
 "cells": [
  {
   "cell_type": "markdown",
   "metadata": {},
   "source": [
    "# Native Python Perceptron Implementation\n",
    "\n",
    "## Author: Mugdhesh Pandkar\n",
    "\n",
    "Inspired by https://www.youtube.com/watch?v=GVsUOuSjvcg and https://en.wikipedia.org/wiki/Perceptron."
   ]
  },
  {
   "cell_type": "code",
   "execution_count": 640,
   "metadata": {},
   "outputs": [],
   "source": [
    "HEIGHT, WIDTH = 20, 20\n",
    "weights = [[0] * WIDTH for x in range(HEIGHT)]\n",
    "input = [[0] * WIDTH for x in range(HEIGHT)]\n",
    "BIAS = 5\n",
    "ITERATIONS = 200\n",
    "EPOCHS = 60"
   ]
  },
  {
   "cell_type": "markdown",
   "metadata": {},
   "source": [
    "## Visualizing the layer"
   ]
  },
  {
   "cell_type": "code",
   "execution_count": 375,
   "metadata": {},
   "outputs": [
    {
     "data": {
      "image/png": "[encoded data removed]",
      "text/plain": [
       "<Figure size 432x288 with 2 Axes>"
      ]
     },
     "metadata": {
      "needs_background": "light"
     },
     "output_type": "display_data"
    }
   ],
   "source": [
    "import matplotlib.pyplot as plt\n",
    "from matplotlib import colors\n",
    "import numpy as np\n",
    "from matplotlib.colors import LinearSegmentedColormap\n",
    "\n",
    "\n",
    "def visualize(layer):\n",
    "    # cmap = colors.ListedColormap(['red', 'green'])\n",
    "    # bounds = [0, 0.5, 1]\n",
    "    # norm = colors.BoundaryNorm(bounds, cmap.N)\n",
    "\n",
    "    # fig, ax = plt.subplots()\n",
    "    # ax.imshow(layer, cmap=cmap, norm=norm)\n",
    "\n",
    "    # # draw gridlines\n",
    "    # ax.grid(linestyle='-', color='k', linewidth=1)\n",
    "    # ax.set_xticks(np.arange(-0.5, 20, 1))\n",
    "    # ax.set_yticks(np.arange(-0.5, 20, 1))\n",
    "\n",
    "    # ax.set_yticklabels([])\n",
    "    # ax.set_xticklabels([])\n",
    "\n",
    "    # plt.show()\n",
    "\n",
    "    nodes = [0, 1.0]\n",
    "    colors = [\"blue\", \"yellow\"]\n",
    "    cmap = LinearSegmentedColormap.from_list(\"\", list(zip(nodes, colors)))\n",
    "\n",
    "    fig, ax = plt.subplots()\n",
    "    im = ax.imshow(layer, cmap=cmap, vmin=0, vmax=1)\n",
    "    fig.colorbar(im, extend=\"min\")\n",
    "    plt.show()\n",
    "\n",
    "\n",
    "visualize(input)"
   ]
  },
  {
   "cell_type": "code",
   "execution_count": 376,
   "metadata": {},
   "outputs": [],
   "source": [
    "def visualize_weights(weights):\n",
    "    nodes = [0, 1.0]\n",
    "    data = [[0] * WIDTH for x in range(HEIGHT)]\n",
    "\n",
    "    OldRange = 70 # -20, 20  \n",
    "    NewRange = 1 # 0, 1  \n",
    "    for y in range(HEIGHT):\n",
    "        for x in range(WIDTH):\n",
    "            data[y][x] = (((weights[y][x] - -50) * NewRange) / OldRange)\n",
    "    colors = [\"blue\", \"yellow\"]\n",
    "    cmap = LinearSegmentedColormap.from_list(\"\", list(zip(nodes, colors)))\n",
    "\n",
    "    fig, ax = plt.subplots()\n",
    "    im = ax.imshow(data, cmap=cmap, vmin=0, vmax=1)\n",
    "    fig.colorbar(im, extend=\"min\")\n",
    "    plt.show()"
   ]
  },
  {
   "cell_type": "markdown",
   "metadata": {},
   "source": [
    "## Generating Training Data"
   ]
  },
  {
   "cell_type": "markdown",
   "metadata": {},
   "source": [
    "### Rectangles"
   ]
  },
  {
   "cell_type": "code",
   "execution_count": 400,
   "metadata": {},
   "outputs": [
    {
     "data": {
      "image/png": "[encoded data removed]",
      "text/plain": [
       "<Figure size 432x288 with 2 Axes>"
      ]
     },
     "metadata": {
      "needs_background": "light"
     },
     "output_type": "display_data"
    }
   ],
   "source": [
    "import random\n",
    "def generate_rect(layer):\n",
    "    layer = [[0] * WIDTH for x in range(HEIGHT)]\n",
    "    x = random.randint(0, WIDTH - 3)\n",
    "    y = random.randint(0, HEIGHT -  3)\n",
    "\n",
    "    width = random.randint(2, WIDTH - x)\n",
    "    height = random.randint(2, HEIGHT - y)\n",
    "    \n",
    "    for i in range(y, y + height):\n",
    "        for j in range(x, x + width):\n",
    "            layer[i][j] = 1\n",
    "    \n",
    "    return layer\n",
    "\n",
    "random.seed(100)\n",
    "input = generate_rect(input)\n",
    "visualize(input)"
   ]
  },
  {
   "cell_type": "markdown",
   "metadata": {},
   "source": [
    "### Circles"
   ]
  },
  {
   "cell_type": "code",
   "execution_count": 403,
   "metadata": {},
   "outputs": [
    {
     "data": {
      "image/png": "[encoded data removed]",
      "text/plain": [
       "<Figure size 432x288 with 2 Axes>"
      ]
     },
     "metadata": {
      "needs_background": "light"
     },
     "output_type": "display_data"
    }
   ],
   "source": [
    "def generate_circle(layer):\n",
    "    layer = [[0] * WIDTH for x in range(HEIGHT)]\n",
    "\n",
    "    x = random.randint(2, WIDTH - 2)\n",
    "    y = random.randint(2, HEIGHT - 2)\n",
    "\n",
    "    minRadius = min(min(HEIGHT - 1 - y, y - 1), min(WIDTH - 1 - x, x - 1))\n",
    "\n",
    "\n",
    "    r = 2 if minRadius < 2 else random.randint(2, minRadius)\n",
    "    for i in range(HEIGHT):\n",
    "        for j in range(WIDTH):\n",
    "            if pow(j - x, 2) + pow(i - y, 2) <= r**2:\n",
    "                layer[i][j] = 1\n",
    "    \n",
    "    return layer\n",
    "\n",
    "random.seed(100)\n",
    "input = generate_circle(input)\n",
    "visualize(input)"
   ]
  },
  {
   "cell_type": "markdown",
   "metadata": {},
   "source": [
    "# Training"
   ]
  },
  {
   "cell_type": "code",
   "execution_count": 314,
   "metadata": {},
   "outputs": [],
   "source": [
    "def activation(weights, layer):\n",
    "    sum = 0\n",
    "    for i in range(HEIGHT):\n",
    "        for j in range(WIDTH):\n",
    "            sum += weights[i][j] * layer[i][j]\n",
    "\n",
    "    return sum\n",
    "\n",
    "def add_weight(weights, layer):\n",
    "    for x in range(HEIGHT):\n",
    "        for y in range(WIDTH):\n",
    "            weights[x][y] += layer[x][y]\n",
    "\n",
    "    return weights\n",
    "\n",
    "def subtract_weight(weights, layer):\n",
    "    for x in range(HEIGHT):\n",
    "        for y in range(WIDTH):\n",
    "            weights[x][y] -= layer[x][y]\n",
    "\n",
    "    return weights"
   ]
  },
  {
   "cell_type": "code",
   "execution_count": 564,
   "metadata": {},
   "outputs": [],
   "source": [
    "def train(input, weights):\n",
    "    for x in range(EPOCHS):\n",
    "        correct = 0\n",
    "        adjusted = 0\n",
    "        random.seed(100)\n",
    "        for y in range(ITERATIONS):\n",
    "            input = generate_rect(input)\n",
    "            if(activation(weights, input) > BIAS):\n",
    "                weights = subtract_weight(weights, input)\n",
    "                adjusted += 1\n",
    "            else:\n",
    "                correct += 1\n",
    "\n",
    "            input = generate_circle(input)\n",
    "            if(activation(weights, input) < BIAS):\n",
    "                weights = add_weight(weights, input)\n",
    "                adjusted += 1   \n",
    "            else:\n",
    "                correct += 1\n",
    "        accuracy = (correct / (ITERATIONS * 2)) * 100\n",
    "        print(f\"Epoch {x}, Iteration {y}: {accuracy}% Accuracy, Adjusted:{adjusted}\")\n",
    "    \n",
    "    print(\"Training Complete!\")\n",
    "    return weights"
   ]
  },
  {
   "cell_type": "code",
   "execution_count": 565,
   "metadata": {},
   "outputs": [],
   "source": [
    "def test(input, weights):\n",
    "    correct = 0\n",
    "    random.seed(200)\n",
    "    for x in range(ITERATIONS):\n",
    "        input = generate_rect(input)\n",
    "        if(activation(weights, input) > BIAS):\n",
    "            weights = subtract_weight(weights, input)\n",
    "        else:\n",
    "            correct += 1\n",
    "\n",
    "        input = generate_circle(input)\n",
    "        if(activation(weights, input) < BIAS):\n",
    "            weights = add_weight(weights, input)   \n",
    "        else:\n",
    "            correct += 1\n",
    "    accuracy = (correct / (ITERATIONS * 2)) * 100\n",
    "    print(f\"Testing Complete! Final Accuracy: {accuracy}%\")"
   ]
  },
  {
   "cell_type": "code",
   "execution_count": 406,
   "metadata": {},
   "outputs": [],
   "source": [
    "def predict(input, weights):\n",
    "    sum = activation(weights, input)\n",
    "    if sum > BIAS:\n",
    "        print(\"Predicted Circle\")\n",
    "    else:\n",
    "        print(\"Predicted Rectangle\")"
   ]
  },
  {
   "cell_type": "code",
   "execution_count": 641,
   "metadata": {},
   "outputs": [
    {
     "name": "stdout",
     "output_type": "stream",
     "text": [
      "Epoch 0, Iteration 199: 50.5% Accuracy, Adjusted:198\n",
      "Epoch 1, Iteration 199: 57.99999999999999% Accuracy, Adjusted:168\n",
      "Epoch 2, Iteration 199: 62.74999999999999% Accuracy, Adjusted:149\n",
      "Epoch 3, Iteration 199: 61.0% Accuracy, Adjusted:156\n",
      "Epoch 4, Iteration 199: 63.74999999999999% Accuracy, Adjusted:145\n",
      "Epoch 5, Iteration 199: 68.25% Accuracy, Adjusted:127\n",
      "Epoch 6, Iteration 199: 68.0% Accuracy, Adjusted:128\n",
      "Epoch 7, Iteration 199: 69.75% Accuracy, Adjusted:121\n",
      "Epoch 8, Iteration 199: 70.0% Accuracy, Adjusted:120\n",
      "Epoch 9, Iteration 199: 74.5% Accuracy, Adjusted:102\n",
      "Epoch 10, Iteration 199: 70.0% Accuracy, Adjusted:120\n",
      "Epoch 11, Iteration 199: 70.0% Accuracy, Adjusted:120\n",
      "Epoch 12, Iteration 199: 74.25% Accuracy, Adjusted:103\n",
      "Epoch 13, Iteration 199: 73.25% Accuracy, Adjusted:107\n",
      "Epoch 14, Iteration 199: 76.5% Accuracy, Adjusted:94\n",
      "Epoch 15, Iteration 199: 75.25% Accuracy, Adjusted:99\n",
      "Epoch 16, Iteration 199: 76.25% Accuracy, Adjusted:95\n",
      "Epoch 17, Iteration 199: 77.25% Accuracy, Adjusted:91\n",
      "Epoch 18, Iteration 199: 78.5% Accuracy, Adjusted:86\n",
      "Epoch 19, Iteration 199: 77.25% Accuracy, Adjusted:91\n",
      "Epoch 20, Iteration 199: 78.5% Accuracy, Adjusted:86\n",
      "Epoch 21, Iteration 199: 82.5% Accuracy, Adjusted:70\n",
      "Epoch 22, Iteration 199: 77.25% Accuracy, Adjusted:91\n",
      "Epoch 23, Iteration 199: 81.75% Accuracy, Adjusted:73\n",
      "Epoch 24, Iteration 199: 79.5% Accuracy, Adjusted:82\n",
      "Epoch 25, Iteration 199: 81.5% Accuracy, Adjusted:74\n",
      "Epoch 26, Iteration 199: 82.5% Accuracy, Adjusted:70\n",
      "Epoch 27, Iteration 199: 84.25% Accuracy, Adjusted:63\n",
      "Epoch 28, Iteration 199: 87.25% Accuracy, Adjusted:51\n",
      "Epoch 29, Iteration 199: 82.75% Accuracy, Adjusted:69\n",
      "Epoch 30, Iteration 199: 85.25% Accuracy, Adjusted:59\n",
      "Epoch 31, Iteration 199: 83.5% Accuracy, Adjusted:66\n",
      "Epoch 32, Iteration 199: 85.0% Accuracy, Adjusted:60\n",
      "Epoch 33, Iteration 199: 83.5% Accuracy, Adjusted:66\n",
      "Epoch 34, Iteration 199: 82.0% Accuracy, Adjusted:72\n",
      "Epoch 35, Iteration 199: 82.25% Accuracy, Adjusted:71\n",
      "Epoch 36, Iteration 199: 84.75% Accuracy, Adjusted:61\n",
      "Epoch 37, Iteration 199: 87.25% Accuracy, Adjusted:51\n",
      "Epoch 38, Iteration 199: 88.25% Accuracy, Adjusted:47\n",
      "Epoch 39, Iteration 199: 91.25% Accuracy, Adjusted:35\n",
      "Epoch 40, Iteration 199: 88.25% Accuracy, Adjusted:47\n",
      "Epoch 41, Iteration 199: 84.0% Accuracy, Adjusted:64\n",
      "Epoch 42, Iteration 199: 90.0% Accuracy, Adjusted:40\n",
      "Epoch 43, Iteration 199: 89.25% Accuracy, Adjusted:43\n",
      "Epoch 44, Iteration 199: 87.75% Accuracy, Adjusted:49\n",
      "Epoch 45, Iteration 199: 92.25% Accuracy, Adjusted:31\n",
      "Epoch 46, Iteration 199: 85.5% Accuracy, Adjusted:58\n",
      "Epoch 47, Iteration 199: 85.0% Accuracy, Adjusted:60\n",
      "Epoch 48, Iteration 199: 91.5% Accuracy, Adjusted:34\n",
      "Epoch 49, Iteration 199: 88.25% Accuracy, Adjusted:47\n",
      "Epoch 50, Iteration 199: 89.5% Accuracy, Adjusted:42\n",
      "Epoch 51, Iteration 199: 93.25% Accuracy, Adjusted:27\n",
      "Epoch 52, Iteration 199: 93.5% Accuracy, Adjusted:26\n",
      "Epoch 53, Iteration 199: 92.75% Accuracy, Adjusted:29\n",
      "Epoch 54, Iteration 199: 93.25% Accuracy, Adjusted:27\n",
      "Epoch 55, Iteration 199: 89.25% Accuracy, Adjusted:43\n",
      "Epoch 56, Iteration 199: 87.0% Accuracy, Adjusted:52\n",
      "Epoch 57, Iteration 199: 90.0% Accuracy, Adjusted:40\n",
      "Epoch 58, Iteration 199: 89.5% Accuracy, Adjusted:42\n",
      "Epoch 59, Iteration 199: 89.75% Accuracy, Adjusted:41\n",
      "Training Complete!\n",
      "Testing Complete! Final Accuracy: 56.49999999999999%\n"
     ]
    }
   ],
   "source": [
    "weights = [[0] * WIDTH for x in range(HEIGHT)]\n",
    "weights = train(input, weights)\n",
    "test(input, weights)"
   ]
  },
  {
   "cell_type": "code",
   "execution_count": 285,
   "metadata": {},
   "outputs": [],
   "source": [
    "import pickle\n",
    "\n",
    "with open(\"weights.pkl\", \"wb\") as f:\n",
    "    pickle.dump(weights, f)\n",
    "\n",
    "with open(\"weights.pkl\", \"rb\") as f:\n",
    "    weights = pickle.load(f)"
   ]
  },
  {
   "cell_type": "code",
   "execution_count": 520,
   "metadata": {},
   "outputs": [
    {
     "name": "stdout",
     "output_type": "stream",
     "text": [
      "Predicted Rectangle\n",
      "[[0, 0, 0, 0, 0, 0, 0, 0, 0, 0, 0, 0, 0, 0, 0, 0, 0, 0, 0, 0], [0, 0, 0, 0, 0, 0, 0, 0, 0, 0, 0, 0, 0, 0, 0, 0, 0, 0, 0, 0], [0, 0, 0, 0, 0, 0, 0, 0, 0, 0, 0, 0, 0, 0, 0, 0, 0, 0, 0, 0], [0, 0, 0, 0, 0, 0, 0, 0, 0, 0, 0, 0, 0, 0, 0, 0, 0, 0, 0, 0], [0, 0, 0, 0, 0, 0, 0, 0, 0, 0, 0, 0, 0, 0, 0, 0, 0, 0, 0, 0], [0, 0, 0, 0, 0, 0, 0, 0, 0, 0, 0, 0, 0, 0, 0, 0, 0, 0, 0, 0], [0, 0, 0, 0, 0, 0, 0, 0, 0, 0, 0, 0, 0, 0, 0, 0, 0, 0, 0, 0], [0, 0, 0, 0, 0, 0, 0, 0, 0, 0, 0, 0, 0, 0, 0, 0, 0, 0, 0, 0], [0, 0, 0, 0, 0, 0, 0, 0, 0, 0, 0, 0, 0, 0, 0, 0, 0, 0, 0, 0], [0, 0, 0, 0, 0, 0, 0, 0, 0, 0, 0, 0, 0, 0, 0, 0, 0, 0, 0, 0], [0, 0, 0, 0, 0, 0, 0, 0, 0, 0, 0, 0, 0, 0, 0, 0, 0, 0, 0, 0], [0, 0, 0, 0, 0, 0, 0, 0, 0, 0, 0, 0, 0, 0, 0, 0, 0, 0, 0, 0], [0, 0, 0, 0, 0, 0, 0, 0, 0, 0, 0, 0, 0, 0, 0, 0, 0, 0, 0, 0], [0, 0, 0, 0, 0, 0, 0, 0, 0, 0, 0, 0, 0, 0, 0, 0, 0, 0, 0, 0], [0, 0, 0, 0, 0, 0, 0, 0, 0, 0, 0, 0, 0, 0, 0, 0, 0, 0, 0, 0], [0, 0, 0, 0, 0, 0, 0, 0, 0, 0, 0, 0, 0, 0, 0, 0, 0, 0, 0, 0], [0, 0, 0, 0, 0, 0, 0, 0, 0, 0, 0, 0, 0, 0, 0, 0, 0, 0, 0, 0], [0, 0, 0, 0, 0, 0, 0, 0, 0, 0, 0, 0, 0, 0, 0, 0, 0, 0, 0, 0], [0, 0, 0, 0, 0, 0, 0, 0, 0, 0, 0, 0, 0, 0, 0, 0, 0, 0, 0, 0], [0, 0, 0, 0, 0, 0, 0, 0, 0, 0, 0, 0, 0, 0, 0, 0, 0, 0, 0, 0]]\n"
     ]
    },
    {
     "data": {
      "image/png": "[encoded data removed]",
      "text/plain": [
       "<Figure size 432x288 with 2 Axes>"
      ]
     },
     "metadata": {
      "needs_background": "light"
     },
     "output_type": "display_data"
    }
   ],
   "source": [
    "circle = generate_circle(input)\n",
    "predict(circle, weights)\n",
    "print(weights)\n",
    "visualize_weights(weights)"
   ]
  }
 ],
 "metadata": {
  "interpreter": {
   "hash": "aee8b7b246df8f9039afb4144a1f6fd8d2ca17a180786b69acc140d282b71a49"
  },
  "kernelspec": {
   "display_name": "Python 3.10.0 64-bit",
   "language": "python",
   "name": "python3"
  },
  "language_info": {
   "codemirror_mode": {
    "name": "ipython",
    "version": 3
   },
   "file_extension": ".py",
   "mimetype": "text/x-python",
   "name": "python",
   "nbconvert_exporter": "python",
   "pygments_lexer": "ipython3",
   "version": "3.10.0"
  },
  "orig_nbformat": 4
 },
 "nbformat": 4,
 "nbformat_minor": 2
}
