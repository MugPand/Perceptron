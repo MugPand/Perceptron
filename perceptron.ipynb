{
 "cells": [
  {
   "cell_type": "markdown",
   "metadata": {},
   "source": [
    "# Native Python Perceptron Implementation\n",
    "\n",
    "## Author: Mugdhesh Pandkar\n",
    "\n",
    "Inspired by https://www.youtube.com/watch?v=GVsUOuSjvcg and https://en.wikipedia.org/wiki/Perceptron."
   ]
  },
  {
   "cell_type": "code",
   "execution_count": 262,
   "metadata": {},
   "outputs": [],
   "source": [
    "HEIGHT, WIDTH = 20, 20\n",
    "weights = [[0] * WIDTH for x in range(HEIGHT)]\n",
    "layer = [[0] * WIDTH for x in range(HEIGHT)]\n",
    "BIAS = 6"
   ]
  },
  {
   "cell_type": "markdown",
   "metadata": {},
   "source": [
    "## Visualizing the layer"
   ]
  },
  {
   "cell_type": "code",
   "execution_count": 129,
   "metadata": {},
   "outputs": [
    {
     "data": {
      "image/png": "[encoded data removed]",
      "text/plain": [
       "<Figure size 432x288 with 1 Axes>"
      ]
     },
     "metadata": {
      "needs_background": "light"
     },
     "output_type": "display_data"
    }
   ],
   "source": [
    "import matplotlib.pyplot as plt\n",
    "from matplotlib import colors\n",
    "import numpy as np\n",
    "\n",
    "\n",
    "\n",
    "def visualize(layer):\n",
    "    cmap = colors.ListedColormap(['red', 'green'])\n",
    "    bounds = [0, 0.5, 1]\n",
    "    norm = colors.BoundaryNorm(bounds, cmap.N)\n",
    "\n",
    "    fig, ax = plt.subplots()\n",
    "    ax.imshow(layer, cmap=cmap, norm=norm)\n",
    "\n",
    "    # draw gridlines\n",
    "    ax.grid(linestyle='-', color='k', linewidth=1)\n",
    "    ax.set_xticks(np.arange(-0.5, 20, 1))\n",
    "    ax.set_yticks(np.arange(-0.5, 20, 1))\n",
    "\n",
    "    ax.set_yticklabels([])\n",
    "    ax.set_xticklabels([])\n",
    "\n",
    "    plt.show()\n",
    "\n",
    "visualize(layer)"
   ]
  },
  {
   "cell_type": "markdown",
   "metadata": {},
   "source": [
    "## Generating Training Data"
   ]
  },
  {
   "cell_type": "markdown",
   "metadata": {},
   "source": [
    "### Rectangles"
   ]
  },
  {
   "cell_type": "code",
   "execution_count": 261,
   "metadata": {},
   "outputs": [
    {
     "data": {
      "image/png": "[encoded data removed]",
      "text/plain": [
       "<Figure size 432x288 with 1 Axes>"
      ]
     },
     "metadata": {
      "needs_background": "light"
     },
     "output_type": "display_data"
    }
   ],
   "source": [
    "from random import randint\n",
    "def generate_rect(layer):\n",
    "    layer = [[0] * WIDTH for x in range(HEIGHT)]\n",
    "    x = randint(0, WIDTH - 3)\n",
    "    y = randint(0, HEIGHT -  3)\n",
    "\n",
    "    width = randint(2, WIDTH - x)\n",
    "    height = randint(2, HEIGHT - y)\n",
    "    \n",
    "    for i in range(y, y + height):\n",
    "        for j in range(x, x + width):\n",
    "            layer[i][j] = 1\n",
    "    \n",
    "    return layer\n",
    "\n",
    "layer = generate_rect(layer)\n",
    "visualize(layer)"
   ]
  },
  {
   "cell_type": "markdown",
   "metadata": {},
   "source": [
    "### Circles"
   ]
  },
  {
   "cell_type": "code",
   "execution_count": 237,
   "metadata": {},
   "outputs": [
    {
     "data": {
      "image/png": "[encoded data removed]",
      "text/plain": [
       "<Figure size 432x288 with 1 Axes>"
      ]
     },
     "metadata": {
      "needs_background": "light"
     },
     "output_type": "display_data"
    }
   ],
   "source": [
    "def generate_circle(layer):\n",
    "    layer = [[0] * WIDTH for x in range(HEIGHT)]\n",
    "\n",
    "    x = randint(2, WIDTH - 2)\n",
    "    y = randint(2, HEIGHT - 2)\n",
    "\n",
    "    minRadius = min(min(HEIGHT - 1 - y, y - 1), min(WIDTH - 1 - x, x - 1))\n",
    "\n",
    "\n",
    "    r = 2 if minRadius < 2 else randint(2, minRadius)\n",
    "    for i in range(HEIGHT):\n",
    "        for j in range(WIDTH):\n",
    "            if pow(j - x, 2) + pow(i - y, 2) <= r**2:\n",
    "                layer[i][j] = 1\n",
    "    \n",
    "    return layer\n",
    "\n",
    "layer = generate_circle(layer)\n",
    "visualize(layer)"
   ]
  },
  {
   "cell_type": "markdown",
   "metadata": {},
   "source": [
    "# Training"
   ]
  },
  {
   "cell_type": "code",
   "execution_count": null,
   "metadata": {},
   "outputs": [],
   "source": [
    "def dot_product(weights, layer):\n",
    "    sum = 0\n",
    "    for i in range(len(weights)):\n",
    "        for j in range(len(weights[0])):\n",
    "            sum += weights[i][j] * layer[i][j]\n",
    "\n",
    "def adjust_weights(weights, layer, label):\n",
    "    sum = dot_product(weights, layer)\n",
    "    pred = 0 if sum <= BIAS else 1\n",
    "    if label != pred:\n",
    "        "
   ]
  },
  {
   "cell_type": "code",
   "execution_count": null,
   "metadata": {},
   "outputs": [],
   "source": [
    "for x in range(10): # epochs\n",
    "    for y in range(100): # iterations\n",
    "        label = randint(0, 1)\n",
    "        layer = generate_rect(layer) if label == 0 else generate_circle(layer)\n",
    "        \n",
    "        "
   ]
  }
 ],
 "metadata": {
  "interpreter": {
   "hash": "aee8b7b246df8f9039afb4144a1f6fd8d2ca17a180786b69acc140d282b71a49"
  },
  "kernelspec": {
   "display_name": "Python 3.10.0 64-bit",
   "language": "python",
   "name": "python3"
  },
  "language_info": {
   "codemirror_mode": {
    "name": "ipython",
    "version": 3
   },
   "file_extension": ".py",
   "mimetype": "text/x-python",
   "name": "python",
   "nbconvert_exporter": "python",
   "pygments_lexer": "ipython3",
   "version": "3.10.0"
  },
  "orig_nbformat": 4
 },
 "nbformat": 4,
 "nbformat_minor": 2
}
